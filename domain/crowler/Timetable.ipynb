{
 "cells": [
  {
   "cell_type": "code",
   "execution_count": 32,
   "metadata": {},
   "outputs": [],
   "source": [
    "#-*- coding:utf-8 -*-\n",
    "from selenium import webdriver\n",
    "from bs4 import BeautifulSoup\n",
    "from time import sleep\n",
    "from openpyxl import Workbook,load_workbook\n",
    "from selenium import webdriver\n",
    "from webdriver_manager.chrome import ChromeDriverManager\n",
    "from selenium.webdriver.chrome.service import Service\n",
    "from selenium.webdriver.common.by import By\n",
    "from selenium.webdriver.support.ui import WebDriverWait\n",
    "from selenium.webdriver.support import expected_conditions as EC\n",
    "from selenium.webdriver.common.desired_capabilities import DesiredCapabilities\n",
    "from selenium.webdriver.support.ui import WebDriverWait\n",
    "\n",
    "caps = DesiredCapabilities().CHROME\n",
    "caps[\"pageLoadStrategy\"] = \"none\"\n",
    "\n",
    "driver = webdriver.Chrome(service=Service(ChromeDriverManager().install()),desired_capabilities=caps)\n",
    "driver.get('https://mportal.ajou.ac.kr/main.do')\n",
    "\n",
    "wait = WebDriverWait(driver, 20)\n",
    "\n",
    "element =wait.until(EC.presence_of_element_located((By.XPATH, \"//a[contains(text(), '로그인하세요')]\")))\n",
    "element.click()\n",
    "\n",
    "login()\n",
    "sleep(2)\n",
    "#item 가져오기\n",
    "time_table,subject_table, major,name ,soup= find_item()\n",
    "\n",
    "#json 전처리\n",
    "name = name.split('님')[0]\n",
    "subject=list(set(subject_table))\n",
    "subject = [ x.split()[0] for x in subject]\n",
    "rest_dict = {k: make_rest_time(v) for k, v in time_table.items()}\n",
    "major = major.split()[1]"
   ]
  },
  {
   "cell_type": "code",
   "execution_count": 33,
   "metadata": {},
   "outputs": [
    {
     "data": {
      "text/plain": [
       "{'월': ['B'],\n",
       " '화': ['B', 'C', 'E', 'F', 'G'],\n",
       " '수': ['B', 'D', 'F', 'G'],\n",
       " '목': ['A', 'B', 'E', 'F', 'G'],\n",
       " '금': ['B', 'C', 'D', 'E', 'F', 'G']}"
      ]
     },
     "execution_count": 33,
     "metadata": {},
     "output_type": "execute_result"
    }
   ],
   "source": [
    "rest_dict"
   ]
  },
  {
   "cell_type": "code",
   "execution_count": 17,
   "metadata": {},
   "outputs": [
    {
     "ename": "NameError",
     "evalue": "name 'rest_dict' is not defined",
     "output_type": "error",
     "traceback": [
      "\u001b[0;31m---------------------------------------------------------------------------\u001b[0m",
      "\u001b[0;31mNameError\u001b[0m                                 Traceback (most recent call last)",
      "\u001b[1;32m/Users/yuksehyun/Desktop/HACKATON/Team7_Backend/domain/crowler/Timetable.ipynb Cell 3\u001b[0m line \u001b[0;36m4\n\u001b[1;32m      <a href='vscode-notebook-cell:/Users/yuksehyun/Desktop/HACKATON/Team7_Backend/domain/crowler/Timetable.ipynb#W1sZmlsZQ%3D%3D?line=1'>2</a>\u001b[0m json_data[\u001b[39m'\u001b[39m\u001b[39mmajor\u001b[39m\u001b[39m'\u001b[39m] \u001b[39m=\u001b[39m major\n\u001b[1;32m      <a href='vscode-notebook-cell:/Users/yuksehyun/Desktop/HACKATON/Team7_Backend/domain/crowler/Timetable.ipynb#W1sZmlsZQ%3D%3D?line=2'>3</a>\u001b[0m json_data[\u001b[39m'\u001b[39m\u001b[39msubject\u001b[39m\u001b[39m'\u001b[39m] \u001b[39m=\u001b[39m subject\n\u001b[0;32m----> <a href='vscode-notebook-cell:/Users/yuksehyun/Desktop/HACKATON/Team7_Backend/domain/crowler/Timetable.ipynb#W1sZmlsZQ%3D%3D?line=3'>4</a>\u001b[0m json_data[\u001b[39m'\u001b[39m\u001b[39mday\u001b[39m\u001b[39m'\u001b[39m] \u001b[39m=\u001b[39m rest_dict\n\u001b[1;32m      <a href='vscode-notebook-cell:/Users/yuksehyun/Desktop/HACKATON/Team7_Backend/domain/crowler/Timetable.ipynb#W1sZmlsZQ%3D%3D?line=5'>6</a>\u001b[0m file_path \u001b[39m=\u001b[39m \u001b[39m\"\u001b[39m\u001b[39m./sample.json\u001b[39m\u001b[39m\"\u001b[39m\n\u001b[1;32m      <a href='vscode-notebook-cell:/Users/yuksehyun/Desktop/HACKATON/Team7_Backend/domain/crowler/Timetable.ipynb#W1sZmlsZQ%3D%3D?line=6'>7</a>\u001b[0m \u001b[39mwith\u001b[39;00m \u001b[39mopen\u001b[39m(file_path, \u001b[39m'\u001b[39m\u001b[39mw\u001b[39m\u001b[39m'\u001b[39m,encoding\u001b[39m=\u001b[39m\u001b[39m\"\u001b[39m\u001b[39mutf-8\u001b[39m\u001b[39m\"\u001b[39m) \u001b[39mas\u001b[39;00m f:\n",
      "\u001b[0;31mNameError\u001b[0m: name 'rest_dict' is not defined"
     ]
    }
   ],
   "source": [
    "json_data = {}\n",
    "json_data['major'] = major\n",
    "json_data['subject'] = subject\n",
    "json_data['day'] = rest_dict\n",
    "\n",
    "file_path = \"./sample.json\"\n",
    "with open(file_path, 'w',encoding=\"utf-8\") as f:\n",
    "   json.dump(json_data, f, ensure_ascii=False, indent=4)\n"
   ]
  },
  {
   "cell_type": "code",
   "execution_count": 16,
   "metadata": {},
   "outputs": [],
   "source": [
    "def make_rest_time(time_table):\n",
    "  rest_time =[]\n",
    "  for x in time_mapping.items():\n",
    "    if(is_overlap(x[1],time_table)):\n",
    "        pass\n",
    "    else:\n",
    "      rest_time.append(x[0])\n",
    "  return rest_time"
   ]
  },
  {
   "cell_type": "code",
   "execution_count": 15,
   "metadata": {},
   "outputs": [],
   "source": [
    "\n",
    "def is_overlap(time_slot1, time_table):\n",
    "    for time_slot2 in time_table:\n",
    "        start_time1, end_time1 = map(lambda x: int(x[:2]) * 60 + int(x[3:]), time_slot1.split('~'))\n",
    "        start_time2, end_time2 = map(lambda x: int(x[:2]) * 60 + int(x[3:]), time_slot2.split('~'))\n",
    "        if(start_time1 < end_time2 and start_time2 < end_time1):\n",
    "            return True\n",
    "    return False"
   ]
  },
  {
   "cell_type": "code",
   "execution_count": 14,
   "metadata": {},
   "outputs": [],
   "source": [
    "time_mapping ={'A': '09:00~10:30',\n",
    "      'B': '10:30~12:00',\n",
    "      'C': '12:00~13:30',\n",
    "      'D': '13:30~15:00',\n",
    "      'E': '15:00~16:30',\n",
    "      'F': '16:30~18:00',\n",
    "      'G': '18:00~19:30',\n",
    "      }\n",
    "\n",
    "\n",
    "\n"
   ]
  },
  {
   "cell_type": "code",
   "execution_count": 13,
   "metadata": {},
   "outputs": [],
   "source": [
    "def login():\n",
    "    driver.maximize_window()\n",
    "    input_id = wait.until(EC.presence_of_element_located((By.NAME, 'userId')))\n",
    "    input_pw = wait.until(EC.presence_of_element_located((By.NAME, 'password')))\n",
    "    btn_login = wait.until(EC.presence_of_element_located((By.ID, 'loginSubmit')))\n",
    "    input_id.send_keys('sdfg8931')\n",
    "    input_pw.send_keys('sehyun5786')\n",
    "    btn_login.click()\n",
    "    sleep(2)"
   ]
  },
  {
   "cell_type": "code",
   "execution_count": 31,
   "metadata": {},
   "outputs": [],
   "source": [
    "\n",
    "def find_item():\n",
    "  week = ['월','화','수','목','금']\n",
    "  time_table ={}\n",
    "  subject_table =[]\n",
    "  for w in week:\n",
    "    day = wait.until(EC.presence_of_element_located((By.XPATH, f\"//em[contains(text(), '{w}')]\")))\n",
    "    day.click()\n",
    "    wait.until(EC.staleness_of(driver.find_element(By.CLASS_NAME, \"nb-t-05-item\")))\n",
    "    page_source = driver.page_source\n",
    "    soup = BeautifulSoup(page_source, 'html.parser')\n",
    "    items = soup.find_all(class_=\"nb-t-05-item\")\n",
    "    # 결과를 저장할 리스트를 초기화합니다.\n",
    "    time_schedule = []\n",
    "    # 각 요소에서 시간대 정보를 추출합니다.\n",
    "    for item in items:\n",
    "        time_element = item.find(class_=\"ng-binding\")\n",
    "        subject_element = item.find(class_=\"theme-sub ng-binding\")\n",
    "        if time_element:\n",
    "            time = time_element.get_text()\n",
    "            time_schedule.append(time)\n",
    "        if subject_element:\n",
    "            subject = subject_element.get_text()\n",
    "            subject_table.append(subject)\n",
    "    time_table[w] = time_schedule\n",
    "    major = soup.select_one(\".nb-p-01-myInfo dd.ng-binding\").get_text().strip()\n",
    "    name_element = soup.find('dt', class_='ng-binding')\n",
    "    name = name_element.get_text(strip=True)\n",
    "  return time_table,subject_table,major,name,soup\n",
    "  # BeautifulSoup을 사용하여 HTML을 파싱합니다.\n",
    "\n",
    "\n"
   ]
  },
  {
   "cell_type": "code",
   "execution_count": null,
   "metadata": {},
   "outputs": [],
   "source": []
  }
 ],
 "metadata": {
  "kernelspec": {
   "display_name": "Python 3",
   "language": "python",
   "name": "python3"
  },
  "language_info": {
   "codemirror_mode": {
    "name": "ipython",
    "version": 3
   },
   "file_extension": ".py",
   "mimetype": "text/x-python",
   "name": "python",
   "nbconvert_exporter": "python",
   "pygments_lexer": "ipython3",
   "version": "3.9.17"
  }
 },
 "nbformat": 4,
 "nbformat_minor": 2
}
